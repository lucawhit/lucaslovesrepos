{
 "cells": [
  {
   "cell_type": "markdown",
   "metadata": {},
   "source": [
    "# Checkpoint 1"
   ]
  },
  {
   "cell_type": "markdown",
   "metadata": {},
   "source": [
    "Reminder: \n",
    "\n",
    "- You are being evaluated for compeletion and effort in this checkpoint. \n",
    "- Avoid manual labor / hard coding as much as possible, everything we've taught you so far are meant to simplify and automate your process."
   ]
  },
  {
   "cell_type": "markdown",
   "metadata": {},
   "source": [
    "We will be working with the same `states_edu.csv` that you should already be familiar with from the tutorial.\n",
    "\n",
    "We investigated Grade 8 reading score in the tutorial. For this checkpoint, you are asked to investigate another test. Here's an overview:\n",
    "\n",
    "* Choose a specific response variable to focus on\n",
    ">Grade 4 Math, Grade 4 Reading, Grade 8 Math\n",
    "* Pick or create features to use\n",
    ">Will all the features be useful in predicting test score? Are some more important than others? Should you standardize, bin, or scale the data?\n",
    "* Explore the data as it relates to that test\n",
    ">Create at least 2 visualizations (graphs), each with a caption describing the graph and what it tells us about the data\n",
    "* Create training and testing data\n",
    ">Do you want to train on all the data? Only data from the last 10 years? Only Michigan data?\n",
    "* Train a ML model to predict outcome \n",
    ">Define what you want to predict, and pick a model in sklearn to use (see sklearn <a href=\"https://scikit-learn.org/stable/modules/linear_model.html\">regressors</a>.\n",
    "* Summarize your findings\n",
    ">Write a 1 paragraph summary of what you did and make a recommendation about if and how student performance can be predicted\n",
    "\n",
    "Include comments throughout your code! Every cleanup and preprocessing task should be documented.\n",
    "\n",
    "Of course, if you're finding this assignment interesting (and we really hope you do!), you are welcome to do more than the requirements! For example, you may want to see if expenditure affects 4th graders more than 8th graders. Maybe you want to look into the extended version of this dataset and see how factors like sex and race are involved. You can include all your work in this notebook when you turn it in -- just always make sure you explain what you did and interpret your results. Good luck!"
   ]
  },
  {
   "cell_type": "markdown",
   "metadata": {},
   "source": [
    "<h2> Data Cleanup </h2>\n",
    "\n",
    "Import `numpy`, `pandas`, and `matplotlib`.\n",
    "\n",
    "(Feel free to import other libraries!)"
   ]
  },
  {
   "cell_type": "code",
   "execution_count": 102,
   "metadata": {},
   "outputs": [],
   "source": [
    "import numpy as np\n",
    "import pandas as pd\n",
    "import matplotlib.pyplot as plt\n",
    "\n",
    "# Suppress Pandas SettingWithCopyWarning\n",
    "pd.options.mode.chained_assignment = None"
   ]
  },
  {
   "cell_type": "markdown",
   "metadata": {},
   "source": [
    "Load in the \"states_edu.csv\" dataset and take a look at the head of the data"
   ]
  },
  {
   "cell_type": "code",
   "execution_count": 9,
   "metadata": {},
   "outputs": [],
   "source": [
    "df = pd.read_csv('../data/states_edu.csv')"
   ]
  },
  {
   "cell_type": "markdown",
   "metadata": {},
   "source": [
    "You should always familiarize yourself with what each column in the dataframe represents. Read about the states_edu dataset here: https://www.kaggle.com/noriuk/us-education-datasets-unification-project"
   ]
  },
  {
   "cell_type": "markdown",
   "metadata": {},
   "source": [
    "Use this space to rename columns, deal with missing data, etc. _(optional)_"
   ]
  },
  {
   "cell_type": "code",
   "execution_count": 56,
   "metadata": {},
   "outputs": [
    {
     "data": {
      "text/html": [
       "<div>\n",
       "<style scoped>\n",
       "    .dataframe tbody tr th:only-of-type {\n",
       "        vertical-align: middle;\n",
       "    }\n",
       "\n",
       "    .dataframe tbody tr th {\n",
       "        vertical-align: top;\n",
       "    }\n",
       "\n",
       "    .dataframe thead th {\n",
       "        text-align: right;\n",
       "    }\n",
       "</style>\n",
       "<table border=\"1\" class=\"dataframe\">\n",
       "  <thead>\n",
       "    <tr style=\"text-align: right;\">\n",
       "      <th></th>\n",
       "      <th>PRIMARY_KEY</th>\n",
       "      <th>STATE</th>\n",
       "      <th>YEAR</th>\n",
       "      <th>ENROLL_ALL_EST</th>\n",
       "      <th>TOTAL_REVENUE</th>\n",
       "      <th>FEDERAL_REVENUE</th>\n",
       "      <th>STATE_REVENUE</th>\n",
       "      <th>LOCAL_REVENUE</th>\n",
       "      <th>TOTAL_EXPENDITURE</th>\n",
       "      <th>INSTRUCTION_EXPENDITURE</th>\n",
       "      <th>...</th>\n",
       "      <th>ENROLL_8</th>\n",
       "      <th>ENROLL_12</th>\n",
       "      <th>ENROLL_PRIMARY</th>\n",
       "      <th>ENROLL_HS</th>\n",
       "      <th>ENROLL_ALL</th>\n",
       "      <th>AVG_MATH_4_SCORE</th>\n",
       "      <th>AVG_MATH_8_SCORE</th>\n",
       "      <th>AVG_READING_4_SCORE</th>\n",
       "      <th>AVG_READING_8_SCORE</th>\n",
       "      <th>AVE_OUTCOME_SCORE</th>\n",
       "    </tr>\n",
       "  </thead>\n",
       "  <tbody>\n",
       "    <tr>\n",
       "      <th>561</th>\n",
       "      <td>2003_ALABAMA</td>\n",
       "      <td>ALABAMA</td>\n",
       "      <td>2003</td>\n",
       "      <td>727900.0</td>\n",
       "      <td>5196054.0</td>\n",
       "      <td>567704.0</td>\n",
       "      <td>2966981.0</td>\n",
       "      <td>1661369.0</td>\n",
       "      <td>5298932.0</td>\n",
       "      <td>2817111.0</td>\n",
       "      <td>...</td>\n",
       "      <td>59663.0</td>\n",
       "      <td>42005.0</td>\n",
       "      <td>466920.0</td>\n",
       "      <td>205907.0</td>\n",
       "      <td>731220.0</td>\n",
       "      <td>223.0</td>\n",
       "      <td>262.0</td>\n",
       "      <td>207.0</td>\n",
       "      <td>253.0</td>\n",
       "      <td>945.0</td>\n",
       "    </tr>\n",
       "    <tr>\n",
       "      <th>562</th>\n",
       "      <td>2003_ALASKA</td>\n",
       "      <td>ALASKA</td>\n",
       "      <td>2003</td>\n",
       "      <td>133303.0</td>\n",
       "      <td>1425948.0</td>\n",
       "      <td>259423.0</td>\n",
       "      <td>813371.0</td>\n",
       "      <td>353154.0</td>\n",
       "      <td>1610289.0</td>\n",
       "      <td>763525.0</td>\n",
       "      <td>...</td>\n",
       "      <td>11140.0</td>\n",
       "      <td>8651.0</td>\n",
       "      <td>82337.0</td>\n",
       "      <td>40238.0</td>\n",
       "      <td>133933.0</td>\n",
       "      <td>233.0</td>\n",
       "      <td>279.0</td>\n",
       "      <td>212.0</td>\n",
       "      <td>256.0</td>\n",
       "      <td>980.0</td>\n",
       "    </tr>\n",
       "    <tr>\n",
       "      <th>563</th>\n",
       "      <td>2003_ARIZONA</td>\n",
       "      <td>ARIZONA</td>\n",
       "      <td>2003</td>\n",
       "      <td>875111.0</td>\n",
       "      <td>6529894.0</td>\n",
       "      <td>740579.0</td>\n",
       "      <td>2912629.0</td>\n",
       "      <td>2876686.0</td>\n",
       "      <td>6210287.0</td>\n",
       "      <td>2810907.0</td>\n",
       "      <td>...</td>\n",
       "      <td>76376.0</td>\n",
       "      <td>68815.0</td>\n",
       "      <td>613442.0</td>\n",
       "      <td>307272.0</td>\n",
       "      <td>1012068.0</td>\n",
       "      <td>229.0</td>\n",
       "      <td>271.0</td>\n",
       "      <td>209.0</td>\n",
       "      <td>255.0</td>\n",
       "      <td>964.0</td>\n",
       "    </tr>\n",
       "    <tr>\n",
       "      <th>564</th>\n",
       "      <td>2003_ARKANSAS</td>\n",
       "      <td>ARKANSAS</td>\n",
       "      <td>2003</td>\n",
       "      <td>450158.0</td>\n",
       "      <td>3241275.0</td>\n",
       "      <td>379947.0</td>\n",
       "      <td>2394336.0</td>\n",
       "      <td>466992.0</td>\n",
       "      <td>3242799.0</td>\n",
       "      <td>1768713.0</td>\n",
       "      <td>...</td>\n",
       "      <td>37004.0</td>\n",
       "      <td>28840.0</td>\n",
       "      <td>281834.0</td>\n",
       "      <td>132712.0</td>\n",
       "      <td>454523.0</td>\n",
       "      <td>229.0</td>\n",
       "      <td>266.0</td>\n",
       "      <td>214.0</td>\n",
       "      <td>258.0</td>\n",
       "      <td>967.0</td>\n",
       "    </tr>\n",
       "    <tr>\n",
       "      <th>565</th>\n",
       "      <td>2003_CALIFORNIA</td>\n",
       "      <td>CALIFORNIA</td>\n",
       "      <td>2003</td>\n",
       "      <td>6226552.0</td>\n",
       "      <td>59815855.0</td>\n",
       "      <td>5795655.0</td>\n",
       "      <td>33617766.0</td>\n",
       "      <td>20402434.0</td>\n",
       "      <td>59749885.0</td>\n",
       "      <td>29561563.0</td>\n",
       "      <td>...</td>\n",
       "      <td>500143.0</td>\n",
       "      <td>395194.0</td>\n",
       "      <td>3929869.0</td>\n",
       "      <td>1854518.0</td>\n",
       "      <td>6413867.0</td>\n",
       "      <td>227.0</td>\n",
       "      <td>267.0</td>\n",
       "      <td>206.0</td>\n",
       "      <td>251.0</td>\n",
       "      <td>951.0</td>\n",
       "    </tr>\n",
       "  </tbody>\n",
       "</table>\n",
       "<p>5 rows × 26 columns</p>\n",
       "</div>"
      ],
      "text/plain": [
       "         PRIMARY_KEY       STATE  YEAR  ENROLL_ALL_EST  TOTAL_REVENUE  \\\n",
       "561     2003_ALABAMA     ALABAMA  2003        727900.0      5196054.0   \n",
       "562      2003_ALASKA      ALASKA  2003        133303.0      1425948.0   \n",
       "563     2003_ARIZONA     ARIZONA  2003        875111.0      6529894.0   \n",
       "564    2003_ARKANSAS    ARKANSAS  2003        450158.0      3241275.0   \n",
       "565  2003_CALIFORNIA  CALIFORNIA  2003       6226552.0     59815855.0   \n",
       "\n",
       "     FEDERAL_REVENUE  STATE_REVENUE  LOCAL_REVENUE  TOTAL_EXPENDITURE  \\\n",
       "561         567704.0      2966981.0      1661369.0          5298932.0   \n",
       "562         259423.0       813371.0       353154.0          1610289.0   \n",
       "563         740579.0      2912629.0      2876686.0          6210287.0   \n",
       "564         379947.0      2394336.0       466992.0          3242799.0   \n",
       "565        5795655.0     33617766.0     20402434.0         59749885.0   \n",
       "\n",
       "     INSTRUCTION_EXPENDITURE  ...  ENROLL_8  ENROLL_12  ENROLL_PRIMARY  \\\n",
       "561                2817111.0  ...   59663.0    42005.0        466920.0   \n",
       "562                 763525.0  ...   11140.0     8651.0         82337.0   \n",
       "563                2810907.0  ...   76376.0    68815.0        613442.0   \n",
       "564                1768713.0  ...   37004.0    28840.0        281834.0   \n",
       "565               29561563.0  ...  500143.0   395194.0       3929869.0   \n",
       "\n",
       "     ENROLL_HS  ENROLL_ALL  AVG_MATH_4_SCORE  AVG_MATH_8_SCORE  \\\n",
       "561   205907.0    731220.0             223.0             262.0   \n",
       "562    40238.0    133933.0             233.0             279.0   \n",
       "563   307272.0   1012068.0             229.0             271.0   \n",
       "564   132712.0    454523.0             229.0             266.0   \n",
       "565  1854518.0   6413867.0             227.0             267.0   \n",
       "\n",
       "     AVG_READING_4_SCORE  AVG_READING_8_SCORE  AVE_OUTCOME_SCORE  \n",
       "561                207.0                253.0              945.0  \n",
       "562                212.0                256.0              980.0  \n",
       "563                209.0                255.0              964.0  \n",
       "564                214.0                258.0              967.0  \n",
       "565                206.0                251.0              951.0  \n",
       "\n",
       "[5 rows x 26 columns]"
      ]
     },
     "execution_count": 56,
     "metadata": {},
     "output_type": "execute_result"
    }
   ],
   "source": [
    "df.rename({\n",
    "    'GRADES_PK_G':'ENROLL_PREK',\n",
    "    'GRADES_KG_G':'ENROLL_KINDER',\n",
    "    'GRADES_4_G':'ENROLL_4',\n",
    "    'GRADES_8_G':'ENROLL_8',\n",
    "    'GRADES_12_G':'ENROLL_12',\n",
    "    'GRADES_1_8_G':'ENROLL_PRIMARY',\n",
    "    'GRADES_9_12_G':'ENROLL_HS',\n",
    "    'GRADES_ALL_G':'ENROLL_ALL',\n",
    "    'ENROLL':'ENROLL_ALL_EST'\n",
    "    },\n",
    "    axis=1,inplace=True)\n",
    "df.dropna(subset=['AVG_MATH_8_SCORE'], inplace=True)\n",
    "df.head()\n"
   ]
  },
  {
   "cell_type": "markdown",
   "metadata": {},
   "source": [
    "<h2>Exploratory Data Analysis (EDA) </h2>"
   ]
  },
  {
   "cell_type": "markdown",
   "metadata": {},
   "source": [
    "Chosen Outcome Variable for Test: *AVG_MATH_8_SCORE*"
   ]
  },
  {
   "cell_type": "markdown",
   "metadata": {},
   "source": [
    "How many years of data are logged in our dataset? "
   ]
  },
  {
   "cell_type": "code",
   "execution_count": 57,
   "metadata": {},
   "outputs": [
    {
     "data": {
      "text/html": [
       "<div>\n",
       "<style scoped>\n",
       "    .dataframe tbody tr th:only-of-type {\n",
       "        vertical-align: middle;\n",
       "    }\n",
       "\n",
       "    .dataframe tbody tr th {\n",
       "        vertical-align: top;\n",
       "    }\n",
       "\n",
       "    .dataframe thead th {\n",
       "        text-align: right;\n",
       "    }\n",
       "</style>\n",
       "<table border=\"1\" class=\"dataframe\">\n",
       "  <thead>\n",
       "    <tr style=\"text-align: right;\">\n",
       "      <th></th>\n",
       "      <th>YEAR</th>\n",
       "      <th>ENROLL_ALL_EST</th>\n",
       "      <th>TOTAL_REVENUE</th>\n",
       "      <th>FEDERAL_REVENUE</th>\n",
       "      <th>STATE_REVENUE</th>\n",
       "      <th>LOCAL_REVENUE</th>\n",
       "      <th>TOTAL_EXPENDITURE</th>\n",
       "      <th>INSTRUCTION_EXPENDITURE</th>\n",
       "      <th>SUPPORT_SERVICES_EXPENDITURE</th>\n",
       "      <th>OTHER_EXPENDITURE</th>\n",
       "      <th>...</th>\n",
       "      <th>ENROLL_8</th>\n",
       "      <th>ENROLL_12</th>\n",
       "      <th>ENROLL_PRIMARY</th>\n",
       "      <th>ENROLL_HS</th>\n",
       "      <th>ENROLL_ALL</th>\n",
       "      <th>AVG_MATH_4_SCORE</th>\n",
       "      <th>AVG_MATH_8_SCORE</th>\n",
       "      <th>AVG_READING_4_SCORE</th>\n",
       "      <th>AVG_READING_8_SCORE</th>\n",
       "      <th>AVE_OUTCOME_SCORE</th>\n",
       "    </tr>\n",
       "  </thead>\n",
       "  <tbody>\n",
       "    <tr>\n",
       "      <th>count</th>\n",
       "      <td>478.000000</td>\n",
       "      <td>3.570000e+02</td>\n",
       "      <td>3.570000e+02</td>\n",
       "      <td>3.570000e+02</td>\n",
       "      <td>3.570000e+02</td>\n",
       "      <td>3.570000e+02</td>\n",
       "      <td>3.570000e+02</td>\n",
       "      <td>3.570000e+02</td>\n",
       "      <td>3.570000e+02</td>\n",
       "      <td>3.570000e+02</td>\n",
       "      <td>...</td>\n",
       "      <td>408.000000</td>\n",
       "      <td>408.000000</td>\n",
       "      <td>3.570000e+02</td>\n",
       "      <td>4.080000e+02</td>\n",
       "      <td>4.080000e+02</td>\n",
       "      <td>478.000000</td>\n",
       "      <td>478.000000</td>\n",
       "      <td>478.000000</td>\n",
       "      <td>478.000000</td>\n",
       "      <td>478.000000</td>\n",
       "    </tr>\n",
       "    <tr>\n",
       "      <th>mean</th>\n",
       "      <td>2010.960251</td>\n",
       "      <td>9.451255e+05</td>\n",
       "      <td>1.115479e+07</td>\n",
       "      <td>1.022119e+06</td>\n",
       "      <td>5.121749e+06</td>\n",
       "      <td>5.010925e+06</td>\n",
       "      <td>1.126676e+07</td>\n",
       "      <td>5.824046e+06</td>\n",
       "      <td>3.301162e+06</td>\n",
       "      <td>5.025831e+05</td>\n",
       "      <td>...</td>\n",
       "      <td>73271.718137</td>\n",
       "      <td>66494.183824</td>\n",
       "      <td>5.810908e+05</td>\n",
       "      <td>2.902441e+05</td>\n",
       "      <td>9.727545e+05</td>\n",
       "      <td>239.089958</td>\n",
       "      <td>281.202929</td>\n",
       "      <td>220.202929</td>\n",
       "      <td>263.870293</td>\n",
       "      <td>1004.366109</td>\n",
       "    </tr>\n",
       "    <tr>\n",
       "      <th>std</th>\n",
       "      <td>5.236592</td>\n",
       "      <td>1.115594e+06</td>\n",
       "      <td>1.361662e+07</td>\n",
       "      <td>1.388952e+06</td>\n",
       "      <td>6.367098e+06</td>\n",
       "      <td>6.368771e+06</td>\n",
       "      <td>1.388169e+07</td>\n",
       "      <td>7.293471e+06</td>\n",
       "      <td>3.869866e+06</td>\n",
       "      <td>6.018313e+05</td>\n",
       "      <td>...</td>\n",
       "      <td>85925.825017</td>\n",
       "      <td>79291.892331</td>\n",
       "      <td>6.839154e+05</td>\n",
       "      <td>3.434656e+05</td>\n",
       "      <td>1.146026e+06</td>\n",
       "      <td>6.260778</td>\n",
       "      <td>8.026335</td>\n",
       "      <td>6.693549</td>\n",
       "      <td>6.513002</td>\n",
       "      <td>26.120946</td>\n",
       "    </tr>\n",
       "    <tr>\n",
       "      <th>min</th>\n",
       "      <td>1992.000000</td>\n",
       "      <td>4.417900e+04</td>\n",
       "      <td>8.010080e+05</td>\n",
       "      <td>7.585600e+04</td>\n",
       "      <td>0.000000e+00</td>\n",
       "      <td>3.518200e+04</td>\n",
       "      <td>8.053620e+05</td>\n",
       "      <td>3.306980e+05</td>\n",
       "      <td>2.394350e+05</td>\n",
       "      <td>2.760800e+04</td>\n",
       "      <td>...</td>\n",
       "      <td>4328.000000</td>\n",
       "      <td>2971.000000</td>\n",
       "      <td>3.769800e+04</td>\n",
       "      <td>1.682800e+04</td>\n",
       "      <td>6.943300e+04</td>\n",
       "      <td>205.000000</td>\n",
       "      <td>243.000000</td>\n",
       "      <td>188.000000</td>\n",
       "      <td>238.000000</td>\n",
       "      <td>875.000000</td>\n",
       "    </tr>\n",
       "    <tr>\n",
       "      <th>25%</th>\n",
       "      <td>2007.000000</td>\n",
       "      <td>2.720700e+05</td>\n",
       "      <td>2.778564e+06</td>\n",
       "      <td>2.959680e+05</td>\n",
       "      <td>1.546600e+06</td>\n",
       "      <td>1.013658e+06</td>\n",
       "      <td>2.708776e+06</td>\n",
       "      <td>1.431522e+06</td>\n",
       "      <td>8.521450e+05</td>\n",
       "      <td>1.311770e+05</td>\n",
       "      <td>...</td>\n",
       "      <td>20664.000000</td>\n",
       "      <td>18481.500000</td>\n",
       "      <td>1.649980e+05</td>\n",
       "      <td>8.091225e+04</td>\n",
       "      <td>2.792678e+05</td>\n",
       "      <td>236.000000</td>\n",
       "      <td>277.000000</td>\n",
       "      <td>216.000000</td>\n",
       "      <td>260.000000</td>\n",
       "      <td>989.000000</td>\n",
       "    </tr>\n",
       "    <tr>\n",
       "      <th>50%</th>\n",
       "      <td>2011.000000</td>\n",
       "      <td>6.651090e+05</td>\n",
       "      <td>6.706922e+06</td>\n",
       "      <td>6.364360e+05</td>\n",
       "      <td>3.232013e+06</td>\n",
       "      <td>2.523155e+06</td>\n",
       "      <td>6.715011e+06</td>\n",
       "      <td>3.383909e+06</td>\n",
       "      <td>2.067538e+06</td>\n",
       "      <td>3.563890e+05</td>\n",
       "      <td>...</td>\n",
       "      <td>50194.500000</td>\n",
       "      <td>42046.500000</td>\n",
       "      <td>4.052620e+05</td>\n",
       "      <td>1.895780e+05</td>\n",
       "      <td>6.810080e+05</td>\n",
       "      <td>240.000000</td>\n",
       "      <td>282.000000</td>\n",
       "      <td>221.000000</td>\n",
       "      <td>265.000000</td>\n",
       "      <td>1009.500000</td>\n",
       "    </tr>\n",
       "    <tr>\n",
       "      <th>75%</th>\n",
       "      <td>2015.000000</td>\n",
       "      <td>1.028259e+06</td>\n",
       "      <td>1.299936e+07</td>\n",
       "      <td>1.116670e+06</td>\n",
       "      <td>6.339782e+06</td>\n",
       "      <td>5.903450e+06</td>\n",
       "      <td>1.275760e+07</td>\n",
       "      <td>6.899346e+06</td>\n",
       "      <td>3.750687e+06</td>\n",
       "      <td>5.778670e+05</td>\n",
       "      <td>...</td>\n",
       "      <td>81853.750000</td>\n",
       "      <td>80651.000000</td>\n",
       "      <td>6.567970e+05</td>\n",
       "      <td>3.325872e+05</td>\n",
       "      <td>1.087134e+06</td>\n",
       "      <td>243.000000</td>\n",
       "      <td>286.000000</td>\n",
       "      <td>225.000000</td>\n",
       "      <td>268.000000</td>\n",
       "      <td>1021.750000</td>\n",
       "    </tr>\n",
       "    <tr>\n",
       "      <th>max</th>\n",
       "      <td>2019.000000</td>\n",
       "      <td>6.307022e+06</td>\n",
       "      <td>7.824804e+07</td>\n",
       "      <td>9.990221e+06</td>\n",
       "      <td>4.236047e+07</td>\n",
       "      <td>3.494151e+07</td>\n",
       "      <td>7.836596e+07</td>\n",
       "      <td>4.195426e+07</td>\n",
       "      <td>2.350185e+07</td>\n",
       "      <td>3.759373e+06</td>\n",
       "      <td>...</td>\n",
       "      <td>500143.000000</td>\n",
       "      <td>498403.000000</td>\n",
       "      <td>3.929869e+06</td>\n",
       "      <td>2.011865e+06</td>\n",
       "      <td>6.437202e+06</td>\n",
       "      <td>253.000000</td>\n",
       "      <td>301.000000</td>\n",
       "      <td>237.000000</td>\n",
       "      <td>280.000000</td>\n",
       "      <td>1064.000000</td>\n",
       "    </tr>\n",
       "  </tbody>\n",
       "</table>\n",
       "<p>8 rows × 24 columns</p>\n",
       "</div>"
      ],
      "text/plain": [
       "              YEAR  ENROLL_ALL_EST  TOTAL_REVENUE  FEDERAL_REVENUE  \\\n",
       "count   478.000000    3.570000e+02   3.570000e+02     3.570000e+02   \n",
       "mean   2010.960251    9.451255e+05   1.115479e+07     1.022119e+06   \n",
       "std       5.236592    1.115594e+06   1.361662e+07     1.388952e+06   \n",
       "min    1992.000000    4.417900e+04   8.010080e+05     7.585600e+04   \n",
       "25%    2007.000000    2.720700e+05   2.778564e+06     2.959680e+05   \n",
       "50%    2011.000000    6.651090e+05   6.706922e+06     6.364360e+05   \n",
       "75%    2015.000000    1.028259e+06   1.299936e+07     1.116670e+06   \n",
       "max    2019.000000    6.307022e+06   7.824804e+07     9.990221e+06   \n",
       "\n",
       "       STATE_REVENUE  LOCAL_REVENUE  TOTAL_EXPENDITURE  \\\n",
       "count   3.570000e+02   3.570000e+02       3.570000e+02   \n",
       "mean    5.121749e+06   5.010925e+06       1.126676e+07   \n",
       "std     6.367098e+06   6.368771e+06       1.388169e+07   \n",
       "min     0.000000e+00   3.518200e+04       8.053620e+05   \n",
       "25%     1.546600e+06   1.013658e+06       2.708776e+06   \n",
       "50%     3.232013e+06   2.523155e+06       6.715011e+06   \n",
       "75%     6.339782e+06   5.903450e+06       1.275760e+07   \n",
       "max     4.236047e+07   3.494151e+07       7.836596e+07   \n",
       "\n",
       "       INSTRUCTION_EXPENDITURE  SUPPORT_SERVICES_EXPENDITURE  \\\n",
       "count             3.570000e+02                  3.570000e+02   \n",
       "mean              5.824046e+06                  3.301162e+06   \n",
       "std               7.293471e+06                  3.869866e+06   \n",
       "min               3.306980e+05                  2.394350e+05   \n",
       "25%               1.431522e+06                  8.521450e+05   \n",
       "50%               3.383909e+06                  2.067538e+06   \n",
       "75%               6.899346e+06                  3.750687e+06   \n",
       "max               4.195426e+07                  2.350185e+07   \n",
       "\n",
       "       OTHER_EXPENDITURE  ...       ENROLL_8      ENROLL_12  ENROLL_PRIMARY  \\\n",
       "count       3.570000e+02  ...     408.000000     408.000000    3.570000e+02   \n",
       "mean        5.025831e+05  ...   73271.718137   66494.183824    5.810908e+05   \n",
       "std         6.018313e+05  ...   85925.825017   79291.892331    6.839154e+05   \n",
       "min         2.760800e+04  ...    4328.000000    2971.000000    3.769800e+04   \n",
       "25%         1.311770e+05  ...   20664.000000   18481.500000    1.649980e+05   \n",
       "50%         3.563890e+05  ...   50194.500000   42046.500000    4.052620e+05   \n",
       "75%         5.778670e+05  ...   81853.750000   80651.000000    6.567970e+05   \n",
       "max         3.759373e+06  ...  500143.000000  498403.000000    3.929869e+06   \n",
       "\n",
       "          ENROLL_HS    ENROLL_ALL  AVG_MATH_4_SCORE  AVG_MATH_8_SCORE  \\\n",
       "count  4.080000e+02  4.080000e+02        478.000000        478.000000   \n",
       "mean   2.902441e+05  9.727545e+05        239.089958        281.202929   \n",
       "std    3.434656e+05  1.146026e+06          6.260778          8.026335   \n",
       "min    1.682800e+04  6.943300e+04        205.000000        243.000000   \n",
       "25%    8.091225e+04  2.792678e+05        236.000000        277.000000   \n",
       "50%    1.895780e+05  6.810080e+05        240.000000        282.000000   \n",
       "75%    3.325872e+05  1.087134e+06        243.000000        286.000000   \n",
       "max    2.011865e+06  6.437202e+06        253.000000        301.000000   \n",
       "\n",
       "       AVG_READING_4_SCORE  AVG_READING_8_SCORE  AVE_OUTCOME_SCORE  \n",
       "count           478.000000           478.000000         478.000000  \n",
       "mean            220.202929           263.870293        1004.366109  \n",
       "std               6.693549             6.513002          26.120946  \n",
       "min             188.000000           238.000000         875.000000  \n",
       "25%             216.000000           260.000000         989.000000  \n",
       "50%             221.000000           265.000000        1009.500000  \n",
       "75%             225.000000           268.000000        1021.750000  \n",
       "max             237.000000           280.000000        1064.000000  \n",
       "\n",
       "[8 rows x 24 columns]"
      ]
     },
     "execution_count": 57,
     "metadata": {},
     "output_type": "execute_result"
    }
   ],
   "source": [
    "df.describe() #27 years are logged in our dataset from 1992 to 2019"
   ]
  },
  {
   "cell_type": "markdown",
   "metadata": {},
   "source": [
    "Let's compare Michigan to Ohio. Which state has the higher average outcome score across all years?"
   ]
  },
  {
   "cell_type": "code",
   "execution_count": 64,
   "metadata": {},
   "outputs": [
    {
     "name": "stdout",
     "output_type": "stream",
     "text": [
      "ohio's average outcome score is 286.0\n",
      "michigans's average outcome score is 278.44444444444446\n"
     ]
    }
   ],
   "source": [
    "mich = df[df[\"STATE\"] == \"MICHIGAN\"]\n",
    "mich_ave = mich[\"AVG_MATH_8_SCORE\"].mean()\n",
    "ohio = df[df[\"STATE\"] == \"OHIO\"]\n",
    "ohio_ave = ohio[\"AVG_MATH_8_SCORE\"].mean()\n",
    "print(\"ohio's average outcome score is \" + str(ohio_ave))\n",
    "print(\"michigans's average outcome score is \" + str(mich_ave))"
   ]
  },
  {
   "cell_type": "markdown",
   "metadata": {},
   "source": [
    "Find the average for your outcome score across all states in 2019"
   ]
  },
  {
   "cell_type": "code",
   "execution_count": 66,
   "metadata": {},
   "outputs": [
    {
     "data": {
      "text/plain": [
       "STATE\n",
       "ALABAMA                 266.777778\n",
       "ALASKA                  280.000000\n",
       "ARIZONA                 278.000000\n",
       "ARKANSAS                274.222222\n",
       "CALIFORNIA              272.555556\n",
       "COLORADO                286.222222\n",
       "CONNECTICUT             284.666667\n",
       "DELAWARE                280.555556\n",
       "DISTRICT_OF_COLUMBIA    257.000000\n",
       "DODEA                   288.333333\n",
       "FLORIDA                 277.000000\n",
       "GEORGIA                 276.777778\n",
       "HAWAII                  273.888889\n",
       "IDAHO                   284.333333\n",
       "ILLINOIS                281.333333\n",
       "INDIANA                 285.444444\n",
       "IOWA                    284.555556\n",
       "KANSAS                  286.444444\n",
       "KENTUCKY                278.111111\n",
       "LOUISIANA               270.111111\n",
       "MAINE                   284.888889\n",
       "MARYLAND                283.222222\n",
       "MASSACHUSETTS           296.000000\n",
       "MICHIGAN                278.444444\n",
       "MINNESOTA               292.888889\n",
       "MISSISSIPPI             267.666667\n",
       "MISSOURI                281.111111\n",
       "MONTANA                 287.777778\n",
       "NATIONAL                280.500000\n",
       "NEBRASKA                284.555556\n",
       "NEVADA                  273.666667\n",
       "NEW_HAMPSHIRE           290.333333\n",
       "NEW_JERSEY              290.444444\n",
       "NEW_MEXICO              268.888889\n",
       "NEW_YORK                280.777778\n",
       "NORTH_CAROLINA          283.333333\n",
       "NORTH_DAKOTA            289.333333\n",
       "OHIO                    286.000000\n",
       "OKLAHOMA                275.000000\n",
       "OREGON                  282.666667\n",
       "PENNSYLVANIA            285.000000\n",
       "RHODE_ISLAND            277.555556\n",
       "SOUTH_CAROLINA          278.666667\n",
       "SOUTH_DAKOTA            287.444444\n",
       "TENNESSEE               275.222222\n",
       "TEXAS                   283.888889\n",
       "UTAH                    283.333333\n",
       "VERMONT                 290.111111\n",
       "VIRGINIA                286.888889\n",
       "WASHINGTON              286.666667\n",
       "WEST_VIRGINIA           271.444444\n",
       "WISCONSIN               287.444444\n",
       "WYOMING                 286.333333\n",
       "Name: AVG_MATH_8_SCORE, dtype: float64"
      ]
     },
     "execution_count": 66,
     "metadata": {},
     "output_type": "execute_result"
    }
   ],
   "source": [
    "states = df.groupby(\"STATE\")\n",
    "states[\"AVG_MATH_8_SCORE\"].mean()"
   ]
  },
  {
   "cell_type": "markdown",
   "metadata": {},
   "source": [
    "Find the maximum outcome score for every state. \n",
    "\n",
    "Refer to the `Grouping and Aggregating` section in Tutorial 0 if you are stuck."
   ]
  },
  {
   "cell_type": "code",
   "execution_count": 67,
   "metadata": {},
   "outputs": [
    {
     "data": {
      "text/plain": [
       "STATE\n",
       "ALABAMA                 269.0\n",
       "ALASKA                  283.0\n",
       "ARIZONA                 283.0\n",
       "ARKANSAS                279.0\n",
       "CALIFORNIA              277.0\n",
       "COLORADO                292.0\n",
       "CONNECTICUT             289.0\n",
       "DELAWARE                284.0\n",
       "DISTRICT_OF_COLUMBIA    269.0\n",
       "DODEA                   293.0\n",
       "FLORIDA                 281.0\n",
       "GEORGIA                 281.0\n",
       "HAWAII                  281.0\n",
       "IDAHO                   287.0\n",
       "ILLINOIS                285.0\n",
       "INDIANA                 288.0\n",
       "IOWA                    286.0\n",
       "KANSAS                  290.0\n",
       "KENTUCKY                282.0\n",
       "LOUISIANA               273.0\n",
       "MAINE                   289.0\n",
       "MARYLAND                288.0\n",
       "MASSACHUSETTS           301.0\n",
       "MICHIGAN                280.0\n",
       "MINNESOTA               295.0\n",
       "MISSISSIPPI             274.0\n",
       "MISSOURI                286.0\n",
       "MONTANA                 293.0\n",
       "NATIONAL                285.0\n",
       "NEBRASKA                288.0\n",
       "NEVADA                  278.0\n",
       "NEW_HAMPSHIRE           296.0\n",
       "NEW_JERSEY              296.0\n",
       "NEW_MEXICO              274.0\n",
       "NEW_YORK                283.0\n",
       "NORTH_CAROLINA          286.0\n",
       "NORTH_DAKOTA            293.0\n",
       "OHIO                    290.0\n",
       "OKLAHOMA                279.0\n",
       "OREGON                  285.0\n",
       "PENNSYLVANIA            290.0\n",
       "RHODE_ISLAND            284.0\n",
       "SOUTH_CAROLINA          282.0\n",
       "SOUTH_DAKOTA            291.0\n",
       "TENNESSEE               280.0\n",
       "TEXAS                   290.0\n",
       "UTAH                    287.0\n",
       "VERMONT                 295.0\n",
       "VIRGINIA                290.0\n",
       "WASHINGTON              290.0\n",
       "WEST_VIRGINIA           274.0\n",
       "WISCONSIN               289.0\n",
       "WYOMING                 289.0\n",
       "Name: AVG_MATH_8_SCORE, dtype: float64"
      ]
     },
     "execution_count": 67,
     "metadata": {},
     "output_type": "execute_result"
    }
   ],
   "source": [
    "states[\"AVG_MATH_8_SCORE\"].max()"
   ]
  },
  {
   "cell_type": "markdown",
   "metadata": {},
   "source": [
    "<h2> Feature Engineering </h2>\n",
    "\n",
    "After exploring the data, you can choose to modify features that you would use to predict the performance of the students on your chosen response variable. \n",
    "\n",
    "You can also create your own features. For example, perhaps you figured that maybe a state's expenditure per student may affect their overall academic performance so you create a expenditure_per_student feature.\n",
    "\n",
    "Use this space to modify or create features."
   ]
  },
  {
   "cell_type": "code",
   "execution_count": 148,
   "metadata": {},
   "outputs": [
    {
     "data": {
      "text/html": [
       "<div>\n",
       "<style scoped>\n",
       "    .dataframe tbody tr th:only-of-type {\n",
       "        vertical-align: middle;\n",
       "    }\n",
       "\n",
       "    .dataframe tbody tr th {\n",
       "        vertical-align: top;\n",
       "    }\n",
       "\n",
       "    .dataframe thead th {\n",
       "        text-align: right;\n",
       "    }\n",
       "</style>\n",
       "<table border=\"1\" class=\"dataframe\">\n",
       "  <thead>\n",
       "    <tr style=\"text-align: right;\">\n",
       "      <th></th>\n",
       "      <th>YEAR</th>\n",
       "      <th>ENROLL_ALL_EST</th>\n",
       "      <th>TOTAL_REVENUE</th>\n",
       "      <th>FEDERAL_REVENUE</th>\n",
       "      <th>STATE_REVENUE</th>\n",
       "      <th>LOCAL_REVENUE</th>\n",
       "      <th>TOTAL_EXPENDITURE</th>\n",
       "      <th>INSTRUCTION_EXPENDITURE</th>\n",
       "      <th>SUPPORT_SERVICES_EXPENDITURE</th>\n",
       "      <th>OTHER_EXPENDITURE</th>\n",
       "      <th>...</th>\n",
       "      <th>ENROLL_ALL</th>\n",
       "      <th>AVG_MATH_4_SCORE</th>\n",
       "      <th>AVG_MATH_8_SCORE</th>\n",
       "      <th>AVG_READING_4_SCORE</th>\n",
       "      <th>AVG_READING_8_SCORE</th>\n",
       "      <th>AVE_OUTCOME_SCORE</th>\n",
       "      <th>INSTRUCT_TOTAL_RATIO</th>\n",
       "      <th>INSTRUCT_PER_STUD</th>\n",
       "      <th>SUPPORT_TOTAL_RATIO</th>\n",
       "      <th>EXPENSE_PER_STUD</th>\n",
       "    </tr>\n",
       "  </thead>\n",
       "  <tbody>\n",
       "    <tr>\n",
       "      <th>count</th>\n",
       "      <td>478.000000</td>\n",
       "      <td>3.570000e+02</td>\n",
       "      <td>3.570000e+02</td>\n",
       "      <td>3.570000e+02</td>\n",
       "      <td>3.570000e+02</td>\n",
       "      <td>3.570000e+02</td>\n",
       "      <td>3.570000e+02</td>\n",
       "      <td>3.570000e+02</td>\n",
       "      <td>3.570000e+02</td>\n",
       "      <td>3.570000e+02</td>\n",
       "      <td>...</td>\n",
       "      <td>4.080000e+02</td>\n",
       "      <td>478.000000</td>\n",
       "      <td>478.000000</td>\n",
       "      <td>478.000000</td>\n",
       "      <td>478.000000</td>\n",
       "      <td>478.000000</td>\n",
       "      <td>357.000000</td>\n",
       "      <td>357.000000</td>\n",
       "      <td>357.000000</td>\n",
       "      <td>357.000000</td>\n",
       "    </tr>\n",
       "    <tr>\n",
       "      <th>mean</th>\n",
       "      <td>2010.960251</td>\n",
       "      <td>9.451255e+05</td>\n",
       "      <td>1.115479e+07</td>\n",
       "      <td>1.022119e+06</td>\n",
       "      <td>5.121749e+06</td>\n",
       "      <td>5.010925e+06</td>\n",
       "      <td>1.126676e+07</td>\n",
       "      <td>5.824046e+06</td>\n",
       "      <td>3.301162e+06</td>\n",
       "      <td>5.025831e+05</td>\n",
       "      <td>...</td>\n",
       "      <td>9.727545e+05</td>\n",
       "      <td>239.089958</td>\n",
       "      <td>281.202929</td>\n",
       "      <td>220.202929</td>\n",
       "      <td>263.870293</td>\n",
       "      <td>1004.366109</td>\n",
       "      <td>0.514704</td>\n",
       "      <td>11.716790</td>\n",
       "      <td>0.301084</td>\n",
       "      <td>11.716790</td>\n",
       "    </tr>\n",
       "    <tr>\n",
       "      <th>std</th>\n",
       "      <td>5.236592</td>\n",
       "      <td>1.115594e+06</td>\n",
       "      <td>1.361662e+07</td>\n",
       "      <td>1.388952e+06</td>\n",
       "      <td>6.367098e+06</td>\n",
       "      <td>6.368771e+06</td>\n",
       "      <td>1.388169e+07</td>\n",
       "      <td>7.293471e+06</td>\n",
       "      <td>3.869866e+06</td>\n",
       "      <td>6.018313e+05</td>\n",
       "      <td>...</td>\n",
       "      <td>1.146026e+06</td>\n",
       "      <td>6.260778</td>\n",
       "      <td>8.026335</td>\n",
       "      <td>6.693549</td>\n",
       "      <td>6.513002</td>\n",
       "      <td>26.120946</td>\n",
       "      <td>0.039450</td>\n",
       "      <td>3.340506</td>\n",
       "      <td>0.029497</td>\n",
       "      <td>3.340506</td>\n",
       "    </tr>\n",
       "    <tr>\n",
       "      <th>min</th>\n",
       "      <td>1992.000000</td>\n",
       "      <td>4.417900e+04</td>\n",
       "      <td>8.010080e+05</td>\n",
       "      <td>7.585600e+04</td>\n",
       "      <td>0.000000e+00</td>\n",
       "      <td>3.518200e+04</td>\n",
       "      <td>8.053620e+05</td>\n",
       "      <td>3.306980e+05</td>\n",
       "      <td>2.394350e+05</td>\n",
       "      <td>2.760800e+04</td>\n",
       "      <td>...</td>\n",
       "      <td>6.943300e+04</td>\n",
       "      <td>205.000000</td>\n",
       "      <td>243.000000</td>\n",
       "      <td>188.000000</td>\n",
       "      <td>238.000000</td>\n",
       "      <td>875.000000</td>\n",
       "      <td>0.404868</td>\n",
       "      <td>5.963684</td>\n",
       "      <td>0.228211</td>\n",
       "      <td>5.963684</td>\n",
       "    </tr>\n",
       "    <tr>\n",
       "      <th>25%</th>\n",
       "      <td>2007.000000</td>\n",
       "      <td>2.720700e+05</td>\n",
       "      <td>2.778564e+06</td>\n",
       "      <td>2.959680e+05</td>\n",
       "      <td>1.546600e+06</td>\n",
       "      <td>1.013658e+06</td>\n",
       "      <td>2.708776e+06</td>\n",
       "      <td>1.431522e+06</td>\n",
       "      <td>8.521450e+05</td>\n",
       "      <td>1.311770e+05</td>\n",
       "      <td>...</td>\n",
       "      <td>2.792678e+05</td>\n",
       "      <td>236.000000</td>\n",
       "      <td>277.000000</td>\n",
       "      <td>216.000000</td>\n",
       "      <td>260.000000</td>\n",
       "      <td>989.000000</td>\n",
       "      <td>0.486720</td>\n",
       "      <td>9.388499</td>\n",
       "      <td>0.282922</td>\n",
       "      <td>9.388499</td>\n",
       "    </tr>\n",
       "    <tr>\n",
       "      <th>50%</th>\n",
       "      <td>2011.000000</td>\n",
       "      <td>6.651090e+05</td>\n",
       "      <td>6.706922e+06</td>\n",
       "      <td>6.364360e+05</td>\n",
       "      <td>3.232013e+06</td>\n",
       "      <td>2.523155e+06</td>\n",
       "      <td>6.715011e+06</td>\n",
       "      <td>3.383909e+06</td>\n",
       "      <td>2.067538e+06</td>\n",
       "      <td>3.563890e+05</td>\n",
       "      <td>...</td>\n",
       "      <td>6.810080e+05</td>\n",
       "      <td>240.000000</td>\n",
       "      <td>282.000000</td>\n",
       "      <td>221.000000</td>\n",
       "      <td>265.000000</td>\n",
       "      <td>1009.500000</td>\n",
       "      <td>0.511593</td>\n",
       "      <td>11.045665</td>\n",
       "      <td>0.301158</td>\n",
       "      <td>11.045665</td>\n",
       "    </tr>\n",
       "    <tr>\n",
       "      <th>75%</th>\n",
       "      <td>2015.000000</td>\n",
       "      <td>1.028259e+06</td>\n",
       "      <td>1.299936e+07</td>\n",
       "      <td>1.116670e+06</td>\n",
       "      <td>6.339782e+06</td>\n",
       "      <td>5.903450e+06</td>\n",
       "      <td>1.275760e+07</td>\n",
       "      <td>6.899346e+06</td>\n",
       "      <td>3.750687e+06</td>\n",
       "      <td>5.778670e+05</td>\n",
       "      <td>...</td>\n",
       "      <td>1.087134e+06</td>\n",
       "      <td>243.000000</td>\n",
       "      <td>286.000000</td>\n",
       "      <td>225.000000</td>\n",
       "      <td>268.000000</td>\n",
       "      <td>1021.750000</td>\n",
       "      <td>0.543399</td>\n",
       "      <td>13.143379</td>\n",
       "      <td>0.320589</td>\n",
       "      <td>13.143379</td>\n",
       "    </tr>\n",
       "    <tr>\n",
       "      <th>max</th>\n",
       "      <td>2019.000000</td>\n",
       "      <td>6.307022e+06</td>\n",
       "      <td>7.824804e+07</td>\n",
       "      <td>9.990221e+06</td>\n",
       "      <td>4.236047e+07</td>\n",
       "      <td>3.494151e+07</td>\n",
       "      <td>7.836596e+07</td>\n",
       "      <td>4.195426e+07</td>\n",
       "      <td>2.350185e+07</td>\n",
       "      <td>3.759373e+06</td>\n",
       "      <td>...</td>\n",
       "      <td>6.437202e+06</td>\n",
       "      <td>253.000000</td>\n",
       "      <td>301.000000</td>\n",
       "      <td>237.000000</td>\n",
       "      <td>280.000000</td>\n",
       "      <td>1064.000000</td>\n",
       "      <td>0.644512</td>\n",
       "      <td>24.005741</td>\n",
       "      <td>0.459578</td>\n",
       "      <td>24.005741</td>\n",
       "    </tr>\n",
       "  </tbody>\n",
       "</table>\n",
       "<p>8 rows × 28 columns</p>\n",
       "</div>"
      ],
      "text/plain": [
       "              YEAR  ENROLL_ALL_EST  TOTAL_REVENUE  FEDERAL_REVENUE  \\\n",
       "count   478.000000    3.570000e+02   3.570000e+02     3.570000e+02   \n",
       "mean   2010.960251    9.451255e+05   1.115479e+07     1.022119e+06   \n",
       "std       5.236592    1.115594e+06   1.361662e+07     1.388952e+06   \n",
       "min    1992.000000    4.417900e+04   8.010080e+05     7.585600e+04   \n",
       "25%    2007.000000    2.720700e+05   2.778564e+06     2.959680e+05   \n",
       "50%    2011.000000    6.651090e+05   6.706922e+06     6.364360e+05   \n",
       "75%    2015.000000    1.028259e+06   1.299936e+07     1.116670e+06   \n",
       "max    2019.000000    6.307022e+06   7.824804e+07     9.990221e+06   \n",
       "\n",
       "       STATE_REVENUE  LOCAL_REVENUE  TOTAL_EXPENDITURE  \\\n",
       "count   3.570000e+02   3.570000e+02       3.570000e+02   \n",
       "mean    5.121749e+06   5.010925e+06       1.126676e+07   \n",
       "std     6.367098e+06   6.368771e+06       1.388169e+07   \n",
       "min     0.000000e+00   3.518200e+04       8.053620e+05   \n",
       "25%     1.546600e+06   1.013658e+06       2.708776e+06   \n",
       "50%     3.232013e+06   2.523155e+06       6.715011e+06   \n",
       "75%     6.339782e+06   5.903450e+06       1.275760e+07   \n",
       "max     4.236047e+07   3.494151e+07       7.836596e+07   \n",
       "\n",
       "       INSTRUCTION_EXPENDITURE  SUPPORT_SERVICES_EXPENDITURE  \\\n",
       "count             3.570000e+02                  3.570000e+02   \n",
       "mean              5.824046e+06                  3.301162e+06   \n",
       "std               7.293471e+06                  3.869866e+06   \n",
       "min               3.306980e+05                  2.394350e+05   \n",
       "25%               1.431522e+06                  8.521450e+05   \n",
       "50%               3.383909e+06                  2.067538e+06   \n",
       "75%               6.899346e+06                  3.750687e+06   \n",
       "max               4.195426e+07                  2.350185e+07   \n",
       "\n",
       "       OTHER_EXPENDITURE  ...    ENROLL_ALL  AVG_MATH_4_SCORE  \\\n",
       "count       3.570000e+02  ...  4.080000e+02        478.000000   \n",
       "mean        5.025831e+05  ...  9.727545e+05        239.089958   \n",
       "std         6.018313e+05  ...  1.146026e+06          6.260778   \n",
       "min         2.760800e+04  ...  6.943300e+04        205.000000   \n",
       "25%         1.311770e+05  ...  2.792678e+05        236.000000   \n",
       "50%         3.563890e+05  ...  6.810080e+05        240.000000   \n",
       "75%         5.778670e+05  ...  1.087134e+06        243.000000   \n",
       "max         3.759373e+06  ...  6.437202e+06        253.000000   \n",
       "\n",
       "       AVG_MATH_8_SCORE  AVG_READING_4_SCORE  AVG_READING_8_SCORE  \\\n",
       "count        478.000000           478.000000           478.000000   \n",
       "mean         281.202929           220.202929           263.870293   \n",
       "std            8.026335             6.693549             6.513002   \n",
       "min          243.000000           188.000000           238.000000   \n",
       "25%          277.000000           216.000000           260.000000   \n",
       "50%          282.000000           221.000000           265.000000   \n",
       "75%          286.000000           225.000000           268.000000   \n",
       "max          301.000000           237.000000           280.000000   \n",
       "\n",
       "       AVE_OUTCOME_SCORE  INSTRUCT_TOTAL_RATIO  INSTRUCT_PER_STUD  \\\n",
       "count         478.000000            357.000000         357.000000   \n",
       "mean         1004.366109              0.514704          11.716790   \n",
       "std            26.120946              0.039450           3.340506   \n",
       "min           875.000000              0.404868           5.963684   \n",
       "25%           989.000000              0.486720           9.388499   \n",
       "50%          1009.500000              0.511593          11.045665   \n",
       "75%          1021.750000              0.543399          13.143379   \n",
       "max          1064.000000              0.644512          24.005741   \n",
       "\n",
       "       SUPPORT_TOTAL_RATIO  EXPENSE_PER_STUD  \n",
       "count           357.000000        357.000000  \n",
       "mean              0.301084         11.716790  \n",
       "std               0.029497          3.340506  \n",
       "min               0.228211          5.963684  \n",
       "25%               0.282922          9.388499  \n",
       "50%               0.301158         11.045665  \n",
       "75%               0.320589         13.143379  \n",
       "max               0.459578         24.005741  \n",
       "\n",
       "[8 rows x 28 columns]"
      ]
     },
     "execution_count": 148,
     "metadata": {},
     "output_type": "execute_result"
    }
   ],
   "source": [
    "# this is the ratio of how much each state spends each year on instruction\n",
    "df[\"INSTRUCT_TOTAL_RATIO\"] = (df[\"INSTRUCTION_EXPENDITURE\"] / df[\"TOTAL_EXPENDITURE\"])\n",
    "# this is the ratio of how much each state spends each year on support services\n",
    "df[\"SUPPORT_TOTAL_RATIO\"] = (df[\"SUPPORT_SERVICES_EXPENDITURE\"] / df[\"TOTAL_EXPENDITURE\"])\n",
    "# this is the instruction expenditure per student\n",
    "df[\"EXPENSE_PER_STUD\"] = df[\"TOTAL_EXPENDITURE\"] / df[\"ENROLL_ALL\"]\n",
    "df.describe()"
   ]
  },
  {
   "cell_type": "markdown",
   "metadata": {},
   "source": [
    "Feature engineering justification: **Basically I wanted to see how the different ratios of spending affected overall preformace I also wanted to look at expenditure per student as well because I was interested**"
   ]
  },
  {
   "cell_type": "markdown",
   "metadata": {},
   "source": [
    "<h2>Visualization</h2>\n",
    "\n",
    "Investigate the relationship between your chosen response variable and at least two predictors using visualizations. Write down your observations.\n",
    "\n",
    "**Visualization 1**"
   ]
  },
  {
   "cell_type": "code",
   "execution_count": 149,
   "metadata": {},
   "outputs": [
    {
     "data": {
      "text/plain": [
       "Text(0, 0.5, '8th Grade Math Score')"
      ]
     },
     "execution_count": 149,
     "metadata": {},
     "output_type": "execute_result"
    },
    {
     "data": {
      "image/png": "[encoded data removed]",
      "text/plain": [
       "<Figure size 640x480 with 1 Axes>"
      ]
     },
     "metadata": {},
     "output_type": "display_data"
    }
   ],
   "source": [
    "df.plot.scatter(x='SUPPORT_TOTAL_RATIO', y='AVG_MATH_8_SCORE', alpha=0.6)\n",
    "plt.xlabel('Ratio of Expenditure Spent on Instruction')\n",
    "plt.ylabel('8th Grade Math Score')"
   ]
  },
  {
   "cell_type": "code",
   "execution_count": null,
   "metadata": {},
   "outputs": [],
   "source": []
  },
  {
   "cell_type": "markdown",
   "metadata": {},
   "source": [
    "**This scatter plot looks like it has a medium negative linear correlation with no super apparent outliers **"
   ]
  },
  {
   "cell_type": "markdown",
   "metadata": {},
   "source": [
    "**Visualization 2**"
   ]
  },
  {
   "cell_type": "code",
   "execution_count": 150,
   "metadata": {},
   "outputs": [
    {
     "data": {
      "text/plain": [
       "Text(0, 0.5, '8th Grade Math Score')"
      ]
     },
     "execution_count": 150,
     "metadata": {},
     "output_type": "execute_result"
    },
    {
     "data": {
      "image/png": "[encoded data removed]",
      "text/plain": [
       "<Figure size 640x480 with 1 Axes>"
      ]
     },
     "metadata": {},
     "output_type": "display_data"
    }
   ],
   "source": [
    "df.plot.scatter(x='EXPENSE_PER_STUD', y='AVG_MATH_8_SCORE', alpha=0.6)\n",
    "plt.xlabel('Ratio of Expenditure Spent on Instruction')\n",
    "plt.ylabel('8th Grade Math Score')"
   ]
  },
  {
   "cell_type": "markdown",
   "metadata": {},
   "source": [
    "**This correlation looks like a medium positive linear relationship with maybe some outliers towards the very bottom of the graph**"
   ]
  },
  {
   "cell_type": "markdown",
   "metadata": {},
   "source": [
    "<h2> Data Creation </h2>\n",
    "\n",
    "_Use this space to create train/test data_"
   ]
  },
  {
   "cell_type": "code",
   "execution_count": 183,
   "metadata": {},
   "outputs": [],
   "source": [
    "from sklearn.model_selection import train_test_split"
   ]
  },
  {
   "cell_type": "code",
   "execution_count": 184,
   "metadata": {},
   "outputs": [],
   "source": [
    "X = df[['SUPPORT_TOTAL_RATIO']].dropna()\n",
    "Z = df[['EXPENSE_PER_STUD']].dropna()\n",
    "y = df.loc[X.index]['AVG_MATH_8_SCORE']\n",
    "y2 = df.loc[Z.index]['AVG_MATH_8_SCORE']"
   ]
  },
  {
   "cell_type": "code",
   "execution_count": 185,
   "metadata": {},
   "outputs": [],
   "source": [
    "X_train, X_test, y_train, y_test = train_test_split(X, y, test_size=.3, random_state=42)\n",
    "Z_train, Z_test, y2_train, y2_test = train_test_split(Z, y2, test_size=.3, random_state=42)"
   ]
  },
  {
   "cell_type": "markdown",
   "metadata": {},
   "source": [
    "<h2> Prediction </h2>"
   ]
  },
  {
   "cell_type": "markdown",
   "metadata": {},
   "source": [
    "ML Models [Resource](https://medium.com/@vijaya.beeravalli/comparison-of-machine-learning-classification-models-for-credit-card-default-data-c3cf805c9a5a)"
   ]
  },
  {
   "cell_type": "code",
   "execution_count": 186,
   "metadata": {},
   "outputs": [],
   "source": [
    "from sklearn.linear_model import LinearRegression"
   ]
  },
  {
   "cell_type": "code",
   "execution_count": 187,
   "metadata": {},
   "outputs": [],
   "source": [
    "# create your model here\n",
    "model = LinearRegression()\n",
    "model2 = LinearRegression()"
   ]
  },
  {
   "cell_type": "code",
   "execution_count": 188,
   "metadata": {},
   "outputs": [
    {
     "data": {
      "text/html": [
       "<style>#sk-container-id-10 {color: black;}#sk-container-id-10 pre{padding: 0;}#sk-container-id-10 div.sk-toggleable {background-color: white;}#sk-container-id-10 label.sk-toggleable__label {cursor: pointer;display: block;width: 100%;margin-bottom: 0;padding: 0.3em;box-sizing: border-box;text-align: center;}#sk-container-id-10 label.sk-toggleable__label-arrow:before {content: \"▸\";float: left;margin-right: 0.25em;color: #696969;}#sk-container-id-10 label.sk-toggleable__label-arrow:hover:before {color: black;}#sk-container-id-10 div.sk-estimator:hover label.sk-toggleable__label-arrow:before {color: black;}#sk-container-id-10 div.sk-toggleable__content {max-height: 0;max-width: 0;overflow: hidden;text-align: left;background-color: #f0f8ff;}#sk-container-id-10 div.sk-toggleable__content pre {margin: 0.2em;color: black;border-radius: 0.25em;background-color: #f0f8ff;}#sk-container-id-10 input.sk-toggleable__control:checked~div.sk-toggleable__content {max-height: 200px;max-width: 100%;overflow: auto;}#sk-container-id-10 input.sk-toggleable__control:checked~label.sk-toggleable__label-arrow:before {content: \"▾\";}#sk-container-id-10 div.sk-estimator input.sk-toggleable__control:checked~label.sk-toggleable__label {background-color: #d4ebff;}#sk-container-id-10 div.sk-label input.sk-toggleable__control:checked~label.sk-toggleable__label {background-color: #d4ebff;}#sk-container-id-10 input.sk-hidden--visually {border: 0;clip: rect(1px 1px 1px 1px);clip: rect(1px, 1px, 1px, 1px);height: 1px;margin: -1px;overflow: hidden;padding: 0;position: absolute;width: 1px;}#sk-container-id-10 div.sk-estimator {font-family: monospace;background-color: #f0f8ff;border: 1px dotted black;border-radius: 0.25em;box-sizing: border-box;margin-bottom: 0.5em;}#sk-container-id-10 div.sk-estimator:hover {background-color: #d4ebff;}#sk-container-id-10 div.sk-parallel-item::after {content: \"\";width: 100%;border-bottom: 1px solid gray;flex-grow: 1;}#sk-container-id-10 div.sk-label:hover label.sk-toggleable__label {background-color: #d4ebff;}#sk-container-id-10 div.sk-serial::before {content: \"\";position: absolute;border-left: 1px solid gray;box-sizing: border-box;top: 0;bottom: 0;left: 50%;z-index: 0;}#sk-container-id-10 div.sk-serial {display: flex;flex-direction: column;align-items: center;background-color: white;padding-right: 0.2em;padding-left: 0.2em;position: relative;}#sk-container-id-10 div.sk-item {position: relative;z-index: 1;}#sk-container-id-10 div.sk-parallel {display: flex;align-items: stretch;justify-content: center;background-color: white;position: relative;}#sk-container-id-10 div.sk-item::before, #sk-container-id-10 div.sk-parallel-item::before {content: \"\";position: absolute;border-left: 1px solid gray;box-sizing: border-box;top: 0;bottom: 0;left: 50%;z-index: -1;}#sk-container-id-10 div.sk-parallel-item {display: flex;flex-direction: column;z-index: 1;position: relative;background-color: white;}#sk-container-id-10 div.sk-parallel-item:first-child::after {align-self: flex-end;width: 50%;}#sk-container-id-10 div.sk-parallel-item:last-child::after {align-self: flex-start;width: 50%;}#sk-container-id-10 div.sk-parallel-item:only-child::after {width: 0;}#sk-container-id-10 div.sk-dashed-wrapped {border: 1px dashed gray;margin: 0 0.4em 0.5em 0.4em;box-sizing: border-box;padding-bottom: 0.4em;background-color: white;}#sk-container-id-10 div.sk-label label {font-family: monospace;font-weight: bold;display: inline-block;line-height: 1.2em;}#sk-container-id-10 div.sk-label-container {text-align: center;}#sk-container-id-10 div.sk-container {/* jupyter's `normalize.less` sets `[hidden] { display: none; }` but bootstrap.min.css set `[hidden] { display: none !important; }` so we also need the `!important` here to be able to override the default hidden behavior on the sphinx rendered scikit-learn.org. See: https://github.com/scikit-learn/scikit-learn/issues/21755 */display: inline-block !important;position: relative;}#sk-container-id-10 div.sk-text-repr-fallback {display: none;}</style><div id=\"sk-container-id-10\" class=\"sk-top-container\"><div class=\"sk-text-repr-fallback\"><pre>LinearRegression()</pre><b>In a Jupyter environment, please rerun this cell to show the HTML representation or trust the notebook. <br />On GitHub, the HTML representation is unable to render, please try loading this page with nbviewer.org.</b></div><div class=\"sk-container\" hidden><div class=\"sk-item\"><div class=\"sk-estimator sk-toggleable\"><input class=\"sk-toggleable__control sk-hidden--visually\" id=\"sk-estimator-id-10\" type=\"checkbox\" checked><label for=\"sk-estimator-id-10\" class=\"sk-toggleable__label sk-toggleable__label-arrow\">LinearRegression</label><div class=\"sk-toggleable__content\"><pre>LinearRegression()</pre></div></div></div></div></div>"
      ],
      "text/plain": [
       "LinearRegression()"
      ]
     },
     "execution_count": 188,
     "metadata": {},
     "output_type": "execute_result"
    }
   ],
   "source": [
    "model.fit(X_train, y_train)\n",
    "model2.fit(Z_train, y2_train)"
   ]
  },
  {
   "cell_type": "code",
   "execution_count": 189,
   "metadata": {},
   "outputs": [],
   "source": [
    "y_pred = model.predict(X_test)\n",
    "y2_pred = model2.predict(Z_test)"
   ]
  },
  {
   "cell_type": "markdown",
   "metadata": {},
   "source": [
    "## Evaluation"
   ]
  },
  {
   "cell_type": "markdown",
   "metadata": {},
   "source": [
    "Choose some metrics to evaluate the performance of your model, some of them are mentioned in the tutorial."
   ]
  },
  {
   "cell_type": "code",
   "execution_count": 191,
   "metadata": {},
   "outputs": [
    {
     "name": "stdout",
     "output_type": "stream",
     "text": [
      "0.012914215113418281\n",
      "0.15805660252654452\n"
     ]
    }
   ],
   "source": [
    "print(model.score(X_test, y_test))\n",
    "print(model2.score(Z_test, y2_test))"
   ]
  },
  {
   "cell_type": "markdown",
   "metadata": {},
   "source": [
    "We have copied over the graphs that visualize the model's performance on the training and testing set. \n",
    "\n",
    "Change `col_name` and modify the call to `plt.ylabel()` to isolate how a single predictor affects the model."
   ]
  },
  {
   "cell_type": "code",
   "execution_count": 193,
   "metadata": {},
   "outputs": [
    {
     "data": {
      "text/plain": [
       "Text(0.5, 1.0, 'Model Behavior On Training Set')"
      ]
     },
     "execution_count": 193,
     "metadata": {},
     "output_type": "execute_result"
    },
    {
     "data": {
      "image/png": "[encoded data removed]",
      "text/plain": [
       "<Figure size 640x480 with 1 Axes>"
      ]
     },
     "metadata": {},
     "output_type": "display_data"
    }
   ],
   "source": [
    "col_name = 'SUPPORT_TOTAL_RATIO'\n",
    "\n",
    "f = plt.Figure(figsize=(12,6))\n",
    "plt.scatter(X_train[col_name], y_train, color = \"red\")\n",
    "plt.scatter(X_train[col_name], model.predict(X_train), color = \"green\")\n",
    "\n",
    "plt.legend(['True Training','Predicted Training'])\n",
    "plt.xlabel(col_name)\n",
    "plt.ylabel('NAME OF THE PREDICTOR')\n",
    "plt.title(\"Model Behavior On Training Set\")"
   ]
  },
  {
   "cell_type": "code",
   "execution_count": 195,
   "metadata": {},
   "outputs": [
    {
     "data": {
      "text/plain": [
       "Text(0.5, 1.0, 'Model Behavior on Testing Set')"
      ]
     },
     "execution_count": 195,
     "metadata": {},
     "output_type": "execute_result"
    },
    {
     "data": {
      "image/png": "[encoded data removed]",
      "text/plain": [
       "<Figure size 1200x600 with 1 Axes>"
      ]
     },
     "metadata": {},
     "output_type": "display_data"
    }
   ],
   "source": [
    "col_name = 'EXPENSE_PER_STUD'\n",
    "\n",
    "f = plt.figure(figsize=(12,6))\n",
    "plt.scatter(Z_test[col_name], y2_test, color = \"blue\")\n",
    "plt.scatter(Z_test[col_name], model2.predict(Z_test), color = \"black\")\n",
    "\n",
    "plt.legend(['True testing','Predicted testing'])\n",
    "plt.xlabel(col_name)\n",
    "plt.ylabel('NAME OF THE PREDICTOR')\n",
    "plt.title(\"Model Behavior on Testing Set\")"
   ]
  },
  {
   "cell_type": "markdown",
   "metadata": {},
   "source": [
    "<h2> Summary </h2>"
   ]
  },
  {
   "cell_type": "markdown",
   "metadata": {},
   "source": [
    "**Overall, What I wanted to look at was which seems to be better at describing the data, how a state spends the money or how much it spends per student? So, I created some features that would help me: the ratio of money spent on support and the amount of money spent per student. Then, I tested those features on the data to see how well it performed. Based on R^2 values it seemed that the amount of money spent per student seemed to be more important than how the money was spent based on simple testing. Moreover, the models look like they didn't do a very good job with R^2 values of 0.012, and 0.15, respectively. If I was to give a recommendation to a state based on these findings I would worry more about giving a larger education budget in general rather than worrying about how the money itself is spent.**"
   ]
  },
  {
   "cell_type": "code",
   "execution_count": null,
   "metadata": {},
   "outputs": [],
   "source": []
  }
 ],
 "metadata": {
  "kernelspec": {
   "display_name": "Python 3 (ipykernel)",
   "language": "python",
   "name": "python3"
  },
  "language_info": {
   "codemirror_mode": {
    "name": "ipython",
    "version": 3
   },
   "file_extension": ".py",
   "mimetype": "text/x-python",
   "name": "python",
   "nbconvert_exporter": "python",
   "pygments_lexer": "ipython3",
   "version": "3.8.10"
  },
  "vscode": {
   "interpreter": {
    "hash": "6cf8df3ff69f85f626faf55c10df6fe2cb9d1236b4dc73844ee4dc01369c2c99"
   }
  }
 },
 "nbformat": 4,
 "nbformat_minor": 4
}
